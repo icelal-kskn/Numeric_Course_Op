{
 "cells": [
  {
   "cell_type": "code",
   "execution_count": 1,
   "metadata": {},
   "outputs": [
    {
     "name": "stdout",
     "output_type": "stream",
     "text": [
      "Python is the best!\n",
      "Bora.Ahmet.Ali.Can!"
     ]
    }
   ],
   "source": [
    "print(\"Python is the best!\")\n",
    "print(\"Bora\",\"Ahmet\",\"Ali\",\"Can\",sep=\".\",end=\"!\")"
   ]
  },
  {
   "cell_type": "code",
   "execution_count": 2,
   "metadata": {},
   "outputs": [
    {
     "name": "stdout",
     "output_type": "stream",
     "text": [
      "<class 'str'>\n",
      "<class 'int'>\n",
      "<class 'float'>\n",
      "<class 'complex'>\n",
      "<class 'bool'>\n",
      "<class 'int'>\n",
      "<class 'int'>\n",
      "<class 'int'>\n",
      "<class 'float'>\n"
     ]
    }
   ],
   "source": [
    "print(type(\"7\"))\n",
    "print(type(7))\n",
    "print(type(7.0))\n",
    "print(type(7j))\n",
    "print(type(True))\n",
    "print(type(0b10))\n",
    "print(type(0o10))\n",
    "print(type(0x10))\n",
    "print(type(7.4e3))"
   ]
  },
  {
   "cell_type": "code",
   "execution_count": null,
   "metadata": {},
   "outputs": [],
   "source": []
  },
  {
   "cell_type": "code",
   "execution_count": 3,
   "metadata": {},
   "outputs": [],
   "source": [
    "# Multiple assignment\n",
    "\n",
    "# int * int = int\n",
    "# int * float = float\n",
    "# float * float = float\n",
    "\n",
    "\n",
    "# Division assignment\n",
    "\n",
    "# int / int = float\n",
    "# int / float = float\n",
    "# float / float = float\n",
    "\n",
    "\n",
    "# Modulo assignment\n",
    "\n",
    "# int % int = int\n",
    "# int % float = float\n",
    "# float % float = float\n",
    "# Left sided binding\n",
    "\n",
    "\n",
    "# Exponential assignment\n",
    "\n",
    "# int ** int = int\n",
    "# int ** float = float\n",
    "# float ** float = float\n",
    "# Right sided binding\n",
    "\n",
    "\n",
    "# Floor division assignment\n",
    "\n",
    "# int // int = int\n",
    "# int // float = float\n",
    "# float // float = float\n",
    "# Left sided binding\n",
    "\n",
    "# Operator Priorities\n",
    "# 1. Parentheses ()\n",
    "# 2. Exponential **\n",
    "# 3. Unary +, -\n",
    "# 4. Multiplication *, \n",
    "# 5. Division /, \n",
    "# 6. Floor division //\n",
    "# 7. Modulo %, \n",
    "# 8. Addition +, \n",
    "# 9. Subtraction -\n",
    "# 10. Bitwise shift operators <<, >>\n",
    "# 11. Bitwise AND &\n",
    "# 12. Bitwise XOR ^\n",
    "# 13. Bitwise OR |"
   ]
  },
  {
   "cell_type": "code",
   "execution_count": 1,
   "metadata": {},
   "outputs": [
    {
     "name": "stdout",
     "output_type": "stream",
     "text": [
      "0x7ff8a0440a38\n",
      "0x7ff8a0440a18\n",
      "0x7ff8a0440a18\n",
      "0x7ff8a0440a18\n",
      "0x7ff8a04409b8\n",
      "0x7ff8a037d210\n"
     ]
    }
   ],
   "source": [
    "a = 5\n",
    "b = 4\n",
    "c = 4\n",
    "print(hex(id(a)))\n",
    "print(hex(id(b)))\n",
    "print(hex(id(c)))\n",
    "print(hex(id(4)))\n",
    "print(hex(id(1)))\n",
    "print(hex(id(True)))"
   ]
  }
 ],
 "metadata": {
  "kernelspec": {
   "display_name": "Python 3",
   "language": "python",
   "name": "python3"
  },
  "language_info": {
   "codemirror_mode": {
    "name": "ipython",
    "version": 3
   },
   "file_extension": ".py",
   "mimetype": "text/x-python",
   "name": "python",
   "nbconvert_exporter": "python",
   "pygments_lexer": "ipython3",
   "version": "3.12.5"
  }
 },
 "nbformat": 4,
 "nbformat_minor": 2
}
