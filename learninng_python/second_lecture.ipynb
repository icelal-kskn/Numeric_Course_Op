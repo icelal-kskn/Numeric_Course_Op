{
 "cells": [
  {
   "cell_type": "markdown",
   "metadata": {},
   "source": [
    "<h2>Python Sequences</h2>"
   ]
  },
  {
   "cell_type": "markdown",
   "metadata": {},
   "source": [
    "### Strings"
   ]
  },
  {
   "cell_type": "code",
   "execution_count": 93,
   "metadata": {},
   "outputs": [
    {
     "name": "stdout",
     "output_type": "stream",
     "text": [
      "Strings are sequences\n"
     ]
    }
   ],
   "source": [
    "print(\"Strings are sequences\")"
   ]
  },
  {
   "cell_type": "code",
   "execution_count": 94,
   "metadata": {},
   "outputs": [],
   "source": [
    "name= \"Numerical Analysis\""
   ]
  },
  {
   "cell_type": "code",
   "execution_count": 95,
   "metadata": {},
   "outputs": [
    {
     "data": {
      "text/plain": [
       "'s'"
      ]
     },
     "execution_count": 95,
     "metadata": {},
     "output_type": "execute_result"
    }
   ],
   "source": [
    "name[0] # N\n",
    "name[1] # u\n",
    "name[2] # m\n",
    "name[3] # e\n",
    "name[4] # r\n",
    "name[5] # i\n",
    "name[6] # c\n",
    "name[7] # a\n",
    "name[8] # l\n",
    "name[9] #\n",
    "name[10] # A\n",
    "name[11] # n\n",
    "name[12] # a\n",
    "name[13] # l\n",
    "name[14] # y\n",
    "name[15] # s\n",
    "name[16] # i\n",
    "name[17] # s"
   ]
  },
  {
   "cell_type": "code",
   "execution_count": 96,
   "metadata": {},
   "outputs": [
    {
     "data": {
      "text/plain": [
       "'N'"
      ]
     },
     "execution_count": 96,
     "metadata": {},
     "output_type": "execute_result"
    }
   ],
   "source": [
    "name[-1] # s\n",
    "name[-2] # i\n",
    "name[-3] # s\n",
    "name[-4] # y\n",
    "name[-5] # l\n",
    "name[-6] # a\n",
    "name[-7] # n\n",
    "name[-8] # A\n",
    "name[-9] #\n",
    "name[-10] # l\n",
    "name[-11] # a\n",
    "name[-12] # c\n",
    "name[-13] # i\n",
    "name[-14] # r\n",
    "name[-15] # e\n",
    "name[-16] # m\n",
    "name[-17] # u\n",
    "name[-18] # N\n"
   ]
  },
  {
   "cell_type": "code",
   "execution_count": 97,
   "metadata": {},
   "outputs": [
    {
     "name": "stdout",
     "output_type": "stream",
     "text": [
      "18\n",
      "s\n",
      "N\n"
     ]
    }
   ],
   "source": [
    "print(len(name))\n",
    "print(name[-1])\n",
    "print(name[-len(name)])"
   ]
  },
  {
   "cell_type": "code",
   "execution_count": 98,
   "metadata": {},
   "outputs": [
    {
     "name": "stdout",
     "output_type": "stream",
     "text": [
      "Numerical\n",
      "Analysis\n",
      "sisylanA\n",
      "sisylanA laciremuN\n"
     ]
    }
   ],
   "source": [
    "#[start:stop:step][start:stop)\n",
    "print(name[0:9]) \n",
    "print(name[10:])\n",
    "print(name[-1:9:-1])\n",
    "print(name[::-1])\n"
   ]
  },
  {
   "cell_type": "code",
   "execution_count": 99,
   "metadata": {},
   "outputs": [
    {
     "name": "stdout",
     "output_type": "stream",
     "text": [
      "N\n",
      "u\n",
      "m\n",
      "e\n",
      "r\n",
      "i\n",
      "c\n",
      "a\n",
      "l\n",
      " \n",
      "A\n",
      "n\n",
      "a\n",
      "l\n",
      "y\n",
      "s\n",
      "i\n",
      "s\n",
      "----------------\n",
      "N\n",
      "m\n",
      "r\n",
      "c\n",
      "l\n",
      "A\n",
      "a\n",
      "y\n",
      "i\n",
      "----------------\n",
      "sisylanA laciremuN"
     ]
    }
   ],
   "source": [
    "#range [start, stop,range] range[start, stop) ----- starts default is 0 range default is 1\n",
    "for i in range(len(name)):\n",
    "    print(name[i])\n",
    "print(\"----------------\")\n",
    "for i in range(0,len(name),2):\n",
    "    print(name[i])\n",
    "print(\"----------------\")\n",
    "for i in range(len(name)-1,-1,-1):\n",
    "    print(name[i],end=\"\")"
   ]
  },
  {
   "cell_type": "code",
   "execution_count": 100,
   "metadata": {},
   "outputs": [
    {
     "name": "stdout",
     "output_type": "stream",
     "text": [
      "Numerical Analysis"
     ]
    }
   ],
   "source": [
    "for n in name:\n",
    "    print(n,end=\"\",sep=\" \",flush=True)\n",
    "\n",
    "#Strings are immutable"
   ]
  },
  {
   "cell_type": "markdown",
   "metadata": {},
   "source": [
    "### List"
   ]
  },
  {
   "cell_type": "code",
   "execution_count": 101,
   "metadata": {},
   "outputs": [
    {
     "data": {
      "text/plain": [
       "[100, 4, 6, 8]"
      ]
     },
     "execution_count": 101,
     "metadata": {},
     "output_type": "execute_result"
    }
   ],
   "source": [
    "# a_list=[]\n",
    "# a_list= list()\n",
    "a_list= [2,4,6,8]\n",
    "#lists are mutable\n",
    "\n",
    "a_list[0]= 100\n",
    "a_list"
   ]
  },
  {
   "cell_type": "code",
   "execution_count": 102,
   "metadata": {},
   "outputs": [
    {
     "data": {
      "text/plain": [
       "[100, 3, 4, 6]"
      ]
     },
     "execution_count": 102,
     "metadata": {},
     "output_type": "execute_result"
    }
   ],
   "source": [
    "a_list.insert(1,3)\n",
    "a_list.pop()\n",
    "a_list"
   ]
  },
  {
   "cell_type": "code",
   "execution_count": 103,
   "metadata": {},
   "outputs": [
    {
     "data": {
      "text/plain": [
       "1"
      ]
     },
     "execution_count": 103,
     "metadata": {},
     "output_type": "execute_result"
    }
   ],
   "source": [
    "a_list.count(3)"
   ]
  },
  {
   "cell_type": "code",
   "execution_count": 104,
   "metadata": {},
   "outputs": [
    {
     "name": "stdout",
     "output_type": "stream",
     "text": [
      "[100, 3, 4, 6]\n",
      "[100, 3, 4, 6]\n"
     ]
    }
   ],
   "source": [
    "b_list=a_list\n",
    "print(a_list)\n",
    "print(b_list)"
   ]
  },
  {
   "cell_type": "code",
   "execution_count": 105,
   "metadata": {},
   "outputs": [
    {
     "name": "stdout",
     "output_type": "stream",
     "text": [
      "[100, 3, 4]\n",
      "[100, 3, 4]\n"
     ]
    }
   ],
   "source": [
    "b_list.pop()\n",
    "print(a_list)\n",
    "print(b_list)"
   ]
  },
  {
   "cell_type": "code",
   "execution_count": 106,
   "metadata": {},
   "outputs": [
    {
     "name": "stdout",
     "output_type": "stream",
     "text": [
      "[100, 3, 4]\n",
      "[100, 3, 4]\n",
      "[100, 3]\n",
      "[100, 3, 4]\n"
     ]
    }
   ],
   "source": [
    "b_list=a_list.copy()\n",
    "print(a_list)\n",
    "print(b_list)\n",
    "a_list.pop()\n",
    "print(a_list)\n",
    "print(b_list)"
   ]
  },
  {
   "cell_type": "code",
   "execution_count": 107,
   "metadata": {},
   "outputs": [
    {
     "name": "stdout",
     "output_type": "stream",
     "text": [
      "[100, 3]\n",
      "[100, 3]\n",
      "[100]\n",
      "[100, 3]\n"
     ]
    }
   ],
   "source": [
    "b_list=a_list[:]\n",
    "print(a_list)\n",
    "print(b_list)\n",
    "a_list.pop()\n",
    "print(a_list)\n",
    "print(b_list)"
   ]
  },
  {
   "cell_type": "markdown",
   "metadata": {},
   "source": [
    "### Numpy for Numerical Analysis\n",
    "NumPy: Numeric Python (numpy.org)"
   ]
  },
  {
   "cell_type": "code",
   "execution_count": 108,
   "metadata": {},
   "outputs": [],
   "source": [
    "#pip install numpy for windows linux\n",
    "#pip3 install numpy for mac\n",
    "#python -m pip install numpy\n",
    "#python3 -m pip install numpy\n",
    "#py -m pip install numpy\n",
    "# %pip install numpy\n",
    "import numpy as np"
   ]
  },
  {
   "cell_type": "code",
   "execution_count": 109,
   "metadata": {},
   "outputs": [
    {
     "name": "stdout",
     "output_type": "stream",
     "text": [
      "Help on built-in function arange in module numpy:\n",
      "\n",
      "arange(...)\n",
      "    arange([start,] stop[, step,], dtype=None, *, device=None, like=None)\n",
      "\n",
      "    Return evenly spaced values within a given interval.\n",
      "\n",
      "    ``arange`` can be called with a varying number of positional arguments:\n",
      "\n",
      "    * ``arange(stop)``: Values are generated within the half-open interval\n",
      "      ``[0, stop)`` (in other words, the interval including `start` but\n",
      "      excluding `stop`).\n",
      "    * ``arange(start, stop)``: Values are generated within the half-open\n",
      "      interval ``[start, stop)``.\n",
      "    * ``arange(start, stop, step)`` Values are generated within the half-open\n",
      "      interval ``[start, stop)``, with spacing between values given by\n",
      "      ``step``.\n",
      "\n",
      "    For integer arguments the function is roughly equivalent to the Python\n",
      "    built-in :py:class:`range`, but returns an ndarray rather than a ``range``\n",
      "    instance.\n",
      "\n",
      "    When using a non-integer step, such as 0.1, it is often better to use\n",
      "    `numpy.linspace`.\n",
      "\n",
      "    See the Warning sections below for more information.\n",
      "\n",
      "    Parameters\n",
      "    ----------\n",
      "    start : integer or real, optional\n",
      "        Start of interval.  The interval includes this value.  The default\n",
      "        start value is 0.\n",
      "    stop : integer or real\n",
      "        End of interval.  The interval does not include this value, except\n",
      "        in some cases where `step` is not an integer and floating point\n",
      "        round-off affects the length of `out`.\n",
      "    step : integer or real, optional\n",
      "        Spacing between values.  For any output `out`, this is the distance\n",
      "        between two adjacent values, ``out[i+1] - out[i]``.  The default\n",
      "        step size is 1.  If `step` is specified as a position argument,\n",
      "        `start` must also be given.\n",
      "    dtype : dtype, optional\n",
      "        The type of the output array.  If `dtype` is not given, infer the data\n",
      "        type from the other input arguments.\n",
      "    device : str, optional\n",
      "        The device on which to place the created array. Default: ``None``.\n",
      "        For Array-API interoperability only, so must be ``\"cpu\"`` if passed.\n",
      "\n",
      "        .. versionadded:: 2.0.0\n",
      "    like : array_like, optional\n",
      "        Reference object to allow the creation of arrays which are not\n",
      "        NumPy arrays. If an array-like passed in as ``like`` supports\n",
      "        the ``__array_function__`` protocol, the result will be defined\n",
      "        by it. In this case, it ensures the creation of an array object\n",
      "        compatible with that passed in via this argument.\n",
      "\n",
      "        .. versionadded:: 1.20.0\n",
      "\n",
      "    Returns\n",
      "    -------\n",
      "    arange : ndarray\n",
      "        Array of evenly spaced values.\n",
      "\n",
      "        For floating point arguments, the length of the result is\n",
      "        ``ceil((stop - start)/step)``.  Because of floating point overflow,\n",
      "        this rule may result in the last element of `out` being greater\n",
      "        than `stop`.\n",
      "\n",
      "    Warnings\n",
      "    --------\n",
      "    The length of the output might not be numerically stable.\n",
      "\n",
      "    Another stability issue is due to the internal implementation of\n",
      "    `numpy.arange`.\n",
      "    The actual step value used to populate the array is\n",
      "    ``dtype(start + step) - dtype(start)`` and not `step`. Precision loss\n",
      "    can occur here, due to casting or due to using floating points when\n",
      "    `start` is much larger than `step`. This can lead to unexpected\n",
      "    behaviour. For example::\n",
      "\n",
      "      >>> np.arange(0, 5, 0.5, dtype=int)\n",
      "      array([0, 0, 0, 0, 0, 0, 0, 0, 0, 0])\n",
      "      >>> np.arange(-3, 3, 0.5, dtype=int)\n",
      "      array([-3, -2, -1,  0,  1,  2,  3,  4,  5,  6,  7,  8])\n",
      "\n",
      "    In such cases, the use of `numpy.linspace` should be preferred.\n",
      "\n",
      "    The built-in :py:class:`range` generates :std:doc:`Python built-in integers\n",
      "    that have arbitrary size <python:c-api/long>`, while `numpy.arange`\n",
      "    produces `numpy.int32` or `numpy.int64` numbers. This may result in\n",
      "    incorrect results for large integer values::\n",
      "\n",
      "      >>> power = 40\n",
      "      >>> modulo = 10000\n",
      "      >>> x1 = [(n ** power) % modulo for n in range(8)]\n",
      "      >>> x2 = [(n ** power) % modulo for n in np.arange(8)]\n",
      "      >>> print(x1)\n",
      "      [0, 1, 7776, 8801, 6176, 625, 6576, 4001]  # correct\n",
      "      >>> print(x2)\n",
      "      [0, 1, 7776, 7185, 0, 5969, 4816, 3361]  # incorrect\n",
      "\n",
      "    See Also\n",
      "    --------\n",
      "    numpy.linspace : Evenly spaced numbers with careful handling of endpoints.\n",
      "    numpy.ogrid: Arrays of evenly spaced numbers in N-dimensions.\n",
      "    numpy.mgrid: Grid-shaped arrays of evenly spaced numbers in N-dimensions.\n",
      "    :ref:`how-to-partition`\n",
      "\n",
      "    Examples\n",
      "    --------\n",
      "    >>> import numpy as np\n",
      "    >>> np.arange(3)\n",
      "    array([0, 1, 2])\n",
      "    >>> np.arange(3.0)\n",
      "    array([ 0.,  1.,  2.])\n",
      "    >>> np.arange(3,7)\n",
      "    array([3, 4, 5, 6])\n",
      "    >>> np.arange(3,7,2)\n",
      "    array([3, 5])\n",
      "\n"
     ]
    }
   ],
   "source": [
    "help(np.arange)"
   ]
  },
  {
   "cell_type": "code",
   "execution_count": 110,
   "metadata": {},
   "outputs": [
    {
     "name": "stdout",
     "output_type": "stream",
     "text": [
      "[0, 1, 2, 3, 4, 5, 6, 7, 8, 9]\n",
      "[0 1 2 3 4 5 6 7 8 9]\n",
      "<class 'numpy.ndarray'>\n"
     ]
    }
   ],
   "source": [
    "an_array=np.arange(10)\n",
    "python_array=list(range(10))\n",
    "print(python_array)\n",
    "print(an_array)\n",
    "print(type(an_array))"
   ]
  },
  {
   "cell_type": "code",
   "execution_count": 111,
   "metadata": {},
   "outputs": [],
   "source": [
    "python_list= list(range(10000000))"
   ]
  },
  {
   "cell_type": "code",
   "execution_count": 112,
   "metadata": {},
   "outputs": [],
   "source": [
    "numpy_array= np.arange(10000000)"
   ]
  },
  {
   "cell_type": "code",
   "execution_count": 113,
   "metadata": {},
   "outputs": [
    {
     "data": {
      "text/plain": [
       "49999995000000"
      ]
     },
     "execution_count": 113,
     "metadata": {},
     "output_type": "execute_result"
    }
   ],
   "source": [
    "sum(python_list)"
   ]
  },
  {
   "cell_type": "code",
   "execution_count": 114,
   "metadata": {},
   "outputs": [
    {
     "data": {
      "text/plain": [
       "np.int64(49999995000000)"
      ]
     },
     "execution_count": 114,
     "metadata": {},
     "output_type": "execute_result"
    }
   ],
   "source": [
    "np.sum(numpy_array)"
   ]
  },
  {
   "cell_type": "code",
   "execution_count": 115,
   "metadata": {},
   "outputs": [],
   "source": [
    "standart_statement= \\\n",
    "'''\n",
    "s=0\n",
    "for i in range(10000):\n",
    "    s+=i\n",
    "'''\n",
    "my_statement= \\\n",
    "'''\n",
    "n= sum(list(range(10000)))\n",
    "\n",
    "'''\n",
    "standart_plus_statement= \\\n",
    "'''\n",
    "n= [i for i in range(10000)]\n",
    "s=sum(n)\n",
    "'''\n",
    "\n",
    "numpy_statement= \\\n",
    "'''\n",
    "import numpy as np\n",
    "s= np.sum(np.arange(10000))\n",
    "'''"
   ]
  },
  {
   "cell_type": "code",
   "execution_count": 116,
   "metadata": {},
   "outputs": [
    {
     "name": "stdout",
     "output_type": "stream",
     "text": [
      "Standart: 0.1660269999410957\n",
      "My: 0.050707199960015714\n",
      "Standart Plus: 0.16194199991878122\n",
      "Numpy: 0.018925599986687303\n"
     ]
    }
   ],
   "source": [
    "import timeit\n",
    "\n",
    "\n",
    "print(f\"Standart: {timeit.timeit(standart_statement,number=1000)}\")\n",
    "print(f\"My: {timeit.timeit(my_statement,number=1000)}\")\n",
    "print(f\"Standart Plus: {timeit.timeit(standart_plus_statement,number=1000)}\")\n",
    "print(f\"Numpy: {timeit.timeit(numpy_statement,number=1000)}\" )"
   ]
  },
  {
   "cell_type": "code",
   "execution_count": 117,
   "metadata": {},
   "outputs": [
    {
     "name": "stdout",
     "output_type": "stream",
     "text": [
      "Python Standart List\n",
      "0x268ed28dc00 << Inıtial Memory Address\n",
      "0x268ed28dc00 :['0x7ff8a8c00998']\n",
      "0x268ed28dc00 :['0x7ff8a8c00998', '0x7ff8a8c009b8']\n",
      "0x268ed28dc00 :['0x7ff8a8c00998', '0x7ff8a8c009b8', '0x7ff8a8c009d8']\n",
      "0x268ed28dc00 :['0x7ff8a8c00998', '0x7ff8a8c009b8', '0x7ff8a8c009d8', '0x7ff8a8c009f8']\n",
      "0x268ed28dc00 :['0x7ff8a8c00998', '0x7ff8a8c009b8', '0x7ff8a8c009d8', '0x7ff8a8c009f8', '0x7ff8a8c00a18']\n"
     ]
    }
   ],
   "source": [
    "n_standart=[]\n",
    "print(\"Python Standart List\")\n",
    "print(f\"{hex(id(n_standart))} << Inıtial Memory Address\")\n",
    "for i in range(5):\n",
    "    n_standart.append(i)\n",
    "    print(f\"{hex(id(n_standart))} \",end=\":\")\n",
    "    print(f\"{[hex(id(x)) for x in n_standart]}\")\n"
   ]
  },
  {
   "cell_type": "code",
   "execution_count": 118,
   "metadata": {},
   "outputs": [
    {
     "name": "stdout",
     "output_type": "stream",
     "text": [
      "Python Numpy List\n",
      "0x268b851f3f0 << Inıtial Memory Address\n",
      "0x268ed194510 :['0x268ed357ab0']\n",
      "0x268ed1941b0 :['0x268ed356690', '0x268ed3578f0']\n",
      "0x268ed194570 :['0x268ed357ab0', '0x268ed356690', '0x268ed357ab0']\n",
      "0x268ed194510 :['0x268ed3578f0', '0x268ed356690', '0x268ed3578f0', '0x268ed356690']\n",
      "0x268ed1941b0 :['0x268ed357ab0', '0x268ed3578f0', '0x268ed357ab0', '0x268ed3578f0', '0x268ed357ab0']\n"
     ]
    }
   ],
   "source": [
    "n_numpy_standart=np.array([])\n",
    "print(\"Python Numpy List\")\n",
    "print(f\"{hex(id(n_numpy_standart))} << Inıtial Memory Address\")\n",
    "for i in range(5):\n",
    "    n_numpy_standart=np.append(n_numpy_standart,i)\n",
    "    print(f\"{hex(id(n_numpy_standart))} \",end=\":\")\n",
    "    print(f\"{[hex(id(x)) for x in n_numpy_standart]}\")"
   ]
  }
 ],
 "metadata": {
  "kernelspec": {
   "display_name": "Python 3",
   "language": "python",
   "name": "python3"
  },
  "language_info": {
   "codemirror_mode": {
    "name": "ipython",
    "version": 3
   },
   "file_extension": ".py",
   "mimetype": "text/x-python",
   "name": "python",
   "nbconvert_exporter": "python",
   "pygments_lexer": "ipython3",
   "version": "3.12.5"
  }
 },
 "nbformat": 4,
 "nbformat_minor": 2
}
